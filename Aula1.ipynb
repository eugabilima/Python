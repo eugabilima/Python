{
  "nbformat": 4,
  "nbformat_minor": 0,
  "metadata": {
    "colab": {
      "provenance": [],
      "authorship_tag": "ABX9TyNEXkXEpM00dotNYyV5yIpU",
      "include_colab_link": true
    },
    "kernelspec": {
      "name": "python3",
      "display_name": "Python 3"
    },
    "language_info": {
      "name": "python"
    }
  },
  "cells": [
    {
      "cell_type": "markdown",
      "metadata": {
        "id": "view-in-github",
        "colab_type": "text"
      },
      "source": [
        "<a href=\"https://colab.research.google.com/github/eugabilima/Python/blob/main/Aula1.ipynb\" target=\"_parent\"><img src=\"https://colab.research.google.com/assets/colab-badge.svg\" alt=\"Open In Colab\"/></a>"
      ]
    },
    {
      "cell_type": "code",
      "execution_count": 1,
      "metadata": {
        "colab": {
          "base_uri": "https://localhost:8080/"
        },
        "id": "GdFQgTAcQ8Vb",
        "outputId": "bbeb672f-e136-481e-c298-39a559fe8c4a"
      },
      "outputs": [
        {
          "output_type": "stream",
          "name": "stdout",
          "text": [
            "Olá, mundo!\n"
          ]
        }
      ],
      "source": [
        "print( \"Olá, mundo!\")"
      ]
    },
    {
      "cell_type": "markdown",
      "source": [
        "Variáveis em Pyhon"
      ],
      "metadata": {
        "id": "u6XuYibxSWX8"
      }
    },
    {
      "cell_type": "code",
      "source": [
        "nome = \"Gabi\"\n",
        "idade = 16\n",
        "print(\"meu nome é\", nome, \"e tenho\", idade, \"anos\")"
      ],
      "metadata": {
        "colab": {
          "base_uri": "https://localhost:8080/"
        },
        "id": "WYk_xJfRScrM",
        "outputId": "c931286b-8f6d-44ed-eaa9-52ac6641f33d"
      },
      "execution_count": 2,
      "outputs": [
        {
          "output_type": "stream",
          "name": "stdout",
          "text": [
            "meu nome é Gabi e tenho 16 anos\n"
          ]
        }
      ]
    },
    {
      "cell_type": "code",
      "source": [
        "#Entrada de Dados\n",
        "\n",
        "nome = input(\"Qual o seu nome? \")\n",
        "print(\"Bem-vindo(a)\", nome,\"!\")"
      ],
      "metadata": {
        "colab": {
          "base_uri": "https://localhost:8080/"
        },
        "id": "UcA0Gaj7TbxY",
        "outputId": "d8bbb32e-7f54-4d24-8d3f-11c70ce6d845"
      },
      "execution_count": 4,
      "outputs": [
        {
          "output_type": "stream",
          "name": "stdout",
          "text": [
            "Qual o seu nome? Gabriela\n",
            "Bem-vindo(a) Gabriela !\n"
          ]
        }
      ]
    },
    {
      "cell_type": "code",
      "source": [
        "#Estruturas condicionais simples\n",
        "\n",
        "nota= 7\n",
        "if nota>= 6:\n",
        "  print(\"Aprovado!\")\n",
        "else:\n",
        "  print(\"Reprovado!\")"
      ],
      "metadata": {
        "colab": {
          "base_uri": "https://localhost:8080/"
        },
        "id": "Qc7ZKe2oT4lW",
        "outputId": "0a03538a-944d-46cd-9796-62fa1ed19b16"
      },
      "execution_count": 5,
      "outputs": [
        {
          "output_type": "stream",
          "name": "stdout",
          "text": [
            "Aprovado!\n"
          ]
        }
      ]
    },
    {
      "cell_type": "code",
      "source": [
        "v1 = input(\"Entre com o valor 1\")\n",
        "v1 = int(v1)\n",
        "v2 = input(\"Entre com o valor 2\")\n",
        "v2 = int(v2)"
      ],
      "metadata": {
        "id": "nfKGC_46U0DI"
      },
      "execution_count": null,
      "outputs": []
    },
    {
      "cell_type": "code",
      "source": [
        "#Operações Matematicas\n",
        "\n",
        "a = 10\n",
        "b = 5\n",
        "print(\"Soma:\", a + b)\n",
        "print(\"Subtração\", a - b)\n",
        "print(\"Multiplicação\", a * b)\n",
        "print(\"Divisão\", a / b)\n",
        "\n"
      ],
      "metadata": {
        "colab": {
          "base_uri": "https://localhost:8080/"
        },
        "id": "9wYQXvqfVOEA",
        "outputId": "d25a4a3c-dbab-4562-df66-9e9f660f7504"
      },
      "execution_count": 6,
      "outputs": [
        {
          "output_type": "stream",
          "name": "stdout",
          "text": [
            "Soma: 15\n",
            "Subtração 5\n",
            "Multiplicação 50\n",
            "Divisão 2.0\n"
          ]
        }
      ]
    }
  ]
}