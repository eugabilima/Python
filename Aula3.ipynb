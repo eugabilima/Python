{
  "nbformat": 4,
  "nbformat_minor": 0,
  "metadata": {
    "colab": {
      "provenance": [],
      "authorship_tag": "ABX9TyOBE1v94G5Xxm9+bo0CZNR8",
      "include_colab_link": true
    },
    "kernelspec": {
      "name": "python3",
      "display_name": "Python 3"
    },
    "language_info": {
      "name": "python"
    }
  },
  "cells": [
    {
      "cell_type": "markdown",
      "metadata": {
        "id": "view-in-github",
        "colab_type": "text"
      },
      "source": [
        "<a href=\"https://colab.research.google.com/github/eugabilima/Python/blob/main/Aula3.ipynb\" target=\"_parent\"><img src=\"https://colab.research.google.com/assets/colab-badge.svg\" alt=\"Open In Colab\"/></a>"
      ]
    },
    {
      "cell_type": "code",
      "execution_count": null,
      "metadata": {
        "id": "sQRQXxGcYzkE"
      },
      "outputs": [],
      "source": [
        "!pip install PyPDF2"
      ]
    },
    {
      "cell_type": "code",
      "source": [
        "from google.colab import files\n",
        "import PyPDF2\n",
        "import csv\n",
        "uploaded = files.upload()\n",
        "nome_arquivo = list(uploaded.keys())[0]\n",
        "\n",
        "\n",
        "texto= \"\"\n",
        "with open(nome_arquivo, 'rb') as pdf_file:\n",
        "    leitor = PyPDF2.PdfReader(pdf_file)\n",
        "    texto = \"\"\n",
        "    for page in range(len(leitor.pages)):\n",
        "        page_obj = leitor.pages[page]\n",
        "        texto += page_obj.extract_text()\n",
        "\n",
        "print(\"Texto carregado do pdf com sucesso!\")\n",
        "\n",
        "\n",
        "with open(\"conteudo_livro.csv\", \"w\", newline=\"\", encoding=\"utf-8\") as f:\n",
        "    writer = csv.writer(f)\n",
        "    writer.writerow([texto])\n",
        "print(\"CSV com conteúdo do livro criado!\")"
      ],
      "metadata": {
        "id": "PWF9Glw_b2k0"
      },
      "execution_count": null,
      "outputs": []
    },
    {
      "cell_type": "code",
      "source": [
        "def responder(pergunta):\n",
        "    pergunta = pergunta.lower()\n",
        "\n",
        "    frases = texto.split(\".\")\n",
        "\n",
        "    respostas = []\n",
        "    for frase in frases:\n",
        "        if any(palavra in frase.lower() for palavra in pergunta.split()):\n",
        "            respostas.append(frase.strip())\n",
        "\n",
        "    if respostas:\n",
        "        return \"Resposta encontrada: \" + ' '.join(respostas)\n",
        "    else:\n",
        "        return \"Não encontrei uma resposta exata, tente reformular a pergunta.\"\n",
        "\n",
        "\n",
        "while True:\n",
        "    pergunta = input(\"Digite sua pergunta (ou 'sair' para encerrar): \")\n",
        "    if pergunta.lower() == 'sair':\n",
        "        break\n",
        "    resposta = responder(pergunta)\n",
        "    print(\"Resposta:\", resposta)"
      ],
      "metadata": {
        "id": "4oG_husVfMuq"
      },
      "execution_count": null,
      "outputs": []
    },
    {
      "cell_type": "code",
      "metadata": {
        "id": "6a37399d"
      },
      "source": [
        "!pip install -q google-generativeai"
      ],
      "execution_count": null,
      "outputs": []
    }
  ]
}