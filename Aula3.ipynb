{
  "nbformat": 4,
  "nbformat_minor": 0,
  "metadata": {
    "colab": {
      "provenance": [],
      "authorship_tag": "ABX9TyPfYJgIP4Amiqll5xjwSAB6",
      "include_colab_link": true
    },
    "kernelspec": {
      "name": "python3",
      "display_name": "Python 3"
    },
    "language_info": {
      "name": "python"
    }
  },
  "cells": [
    {
      "cell_type": "markdown",
      "metadata": {
        "id": "view-in-github",
        "colab_type": "text"
      },
      "source": [
        "<a href=\"https://colab.research.google.com/github/eugabilima/Python/blob/main/Aula3.ipynb\" target=\"_parent\"><img src=\"https://colab.research.google.com/assets/colab-badge.svg\" alt=\"Open In Colab\"/></a>"
      ]
    },
    {
      "cell_type": "markdown",
      "source": [
        "1- Escreva um programa para ler um valor do teclado e apresentar o seu antecessor."
      ],
      "metadata": {
        "id": "Fs5H4JXYEevk"
      }
    },
    {
      "cell_type": "code",
      "metadata": {
        "id": "3dafa930"
      },
      "source": [
        "valor = int(input(\"Digite um número inteiro: \"))\n",
        "antecessor = valor - 1\n",
        "print(\"O antecessor de\",valor,\"é\",antecessor)"
      ],
      "execution_count": null,
      "outputs": []
    },
    {
      "cell_type": "markdown",
      "source": [
        "2- Escreva um programa para ler as dimensões de um retângulo (base e altura),\n",
        "calcule e apresente a área."
      ],
      "metadata": {
        "id": "qsabURINFkP6"
      }
    },
    {
      "cell_type": "code",
      "source": [
        "base = float(input(\"Adicione a base do retângulo: \"))\n",
        "altura = float(input(\"Adicione a base do retângulo: \"))\n",
        "\n",
        "calculo = base * altura\n",
        "\n",
        "print(\"A área do seu retângulo é\", calculo,\"cm²\")"
      ],
      "metadata": {
        "id": "i375sextFmra"
      },
      "execution_count": null,
      "outputs": []
    },
    {
      "cell_type": "markdown",
      "source": [
        "3- Escreva um programa para ler o número total de eleitores de um município, o\n",
        "numero de votos brancos, nulos e válidos. Apresente a percentagem que cada\n",
        "um representa em relação ao total de eleitores."
      ],
      "metadata": {
        "id": "pamtKhBcHbIS"
      }
    },
    {
      "cell_type": "code",
      "source": [
        "eleitores= int(input(\"coloque o numero de eleitores\"))\n",
        "brancos = int(input(\"coloque o numero de votos brancos\"))\n",
        "nulos = int(input(\"coloque o numero de votos nulos\"))\n",
        "validos = int(input(\"coloque o numero de votos validos\"))\n",
        "brancos = (brancos / eleitores) * 100\n",
        "nulos = (nulos / eleitores) * 100\n",
        "validos = (validos / eleitores) * 100\n",
        "print(\"o numero de eleitores é: \", eleitores)\n",
        "print(\"o percentual de votos brancos é: \", brancos)\n",
        "print(\"o percentual de votos nulos é: \", nulos)\n",
        "print(\"o percentual de votos validos é: \", validos)"
      ],
      "metadata": {
        "id": "Q4HFhV6hHerz"
      },
      "execution_count": null,
      "outputs": []
    },
    {
      "cell_type": "markdown",
      "source": [
        "4- Escreva um programa que a partir da idade de uma pessoa expressa em anos,\n",
        "meses e dias, apresente a idade apenas em dias (considerar o ano com 365 e cada\n",
        "mês com 30 dias)."
      ],
      "metadata": {
        "id": "Woih87kvH2nS"
      }
    },
    {
      "cell_type": "code",
      "source": [
        "anos = int(input(\"Adicione a quantidade de anos: \"))\n",
        "meses = int(input(\"Adicione a quantidade de meses: \"))\n",
        "dias = int(input(\"Adicione a quantidade de dias: \"))\n",
        "\n",
        "total = (anos * 365) + (meses * 30) + dias\n",
        "\n",
        "print(\"A idade total em dias é: \",total)"
      ],
      "metadata": {
        "id": "h4KxABiUJAEQ"
      },
      "execution_count": null,
      "outputs": []
    },
    {
      "cell_type": "markdown",
      "source": [
        "5- Faça um programa com uma função chamada soma_imposto. A função possui dois parâmetros formais: taxa_imposto, que é a quantia de imposto sobre vendas expressas em porcentagem, e custo, que é o custo de um item antes do imposto. A função \"altera\" o valor de custo para incluir o imposto sobre vendas."
      ],
      "metadata": {
        "id": "Ft6Jr7ncJB1o"
      }
    },
    {
      "cell_type": "code",
      "source": [
        "def soma_imposto(taxa_imposto, custo):\n",
        "  custo_com_imposto = custo * (1 + taxa_imposto / 100)\n",
        "  return custo_com_imposto\n",
        "\n",
        "taxa = int(input(\"Qual o valor da taxa?\"))\n",
        "preco_original = int(input(\"Qual valor padrão do produto?\"))\n",
        "preco_final = soma_imposto(taxa, preco_original)\n",
        "print(\"O custo final com imposto é:\", preco_final)"
      ],
      "metadata": {
        "id": "pqbchQSDJHna"
      },
      "execution_count": null,
      "outputs": []
    },
    {
      "cell_type": "markdown",
      "source": [
        "6- Faça um programa que use a função valor_pagamento para determinar o valor a ser pago por uma prestação de uma conta. O programa deverá solicitar ao usuário o valor da prestação e o número de dias em atraso e passar estes valores para a função valor_pagamento, que calculará o valor a ser pago e devolverá este valor ao programa que a chamou. O programa deverá então exibir o valor a ser pago na tela. Após a execução, o programa deverá voltar a pedir outro valor de prestação e assim continuar até que seja informado um valor igual a zero para a prestação. Neste momento, o programa deverá ser encerrado, exibindo o relatório do dia, que conterá a quantidade e o valor total de prestações pagas no dia. O cálculo do valor a ser pago é feito da seguinte forma. Para pagamentos sem atraso, cobrar o valor da prestação. Quando houver atraso, cobrar 3% de multa, mais 0,1% de juros por dia de atraso."
      ],
      "metadata": {
        "id": "LGTtkbkiJfI5"
      }
    },
    {
      "cell_type": "code",
      "source": [
        "def sextaquestao():\n",
        "    total_pagas = 0\n",
        "    qtd_pagas = 0\n",
        "\n",
        "    while True:\n",
        "        valor_prestacao = float(input(\"Digite o valor da prestação ou 0 para encerrar programa: \"))\n",
        "\n",
        "        if valor_prestacao == 0:\n",
        "            break\n",
        "\n",
        "        dias_atraso = int(input(\"Digite o número de dias de atraso: \"))\n",
        "        if dias_atraso == 0:\n",
        "         valor_total = valor_prestacao\n",
        "        else:\n",
        "            multa = valor_prestacao * 0.03\n",
        "            juros = valor_prestacao * 0.001 * dias_atraso\n",
        "            valor_total = valor_prestacao + multa + juros\n",
        "\n",
        "        print(\"Valor a ser pago: R$\", valor_total)\n",
        "\n",
        "        total_pagas += valor_total\n",
        "        qtd_pagas += 1\n",
        "\n",
        "    print(\"RELATÓRIO DO DIA:\")\n",
        "\n",
        "    print(\"Quantidade de prestações pagas:\",qtd_pagas)\n",
        "    print(\"Valor total pago: R$\",total_pagas)\n"
      ],
      "metadata": {
        "id": "zxK7Cf-hJg7J"
      },
      "execution_count": null,
      "outputs": []
    }
  ]
}