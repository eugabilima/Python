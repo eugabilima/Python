{
  "nbformat": 4,
  "nbformat_minor": 0,
  "metadata": {
    "colab": {
      "provenance": [],
      "authorship_tag": "ABX9TyNEawZyiaSBQMvdKIlQgvpJ",
      "include_colab_link": true
    },
    "kernelspec": {
      "name": "python3",
      "display_name": "Python 3"
    },
    "language_info": {
      "name": "python"
    }
  },
  "cells": [
    {
      "cell_type": "markdown",
      "metadata": {
        "id": "view-in-github",
        "colab_type": "text"
      },
      "source": [
        "<a href=\"https://colab.research.google.com/github/eugabilima/Python/blob/main/Aula2.ipynb\" target=\"_parent\"><img src=\"https://colab.research.google.com/assets/colab-badge.svg\" alt=\"Open In Colab\"/></a>"
      ]
    },
    {
      "cell_type": "markdown",
      "source": [
        "1. Produto e verificação de valor acima da média nacional\n",
        "\n",
        "Escreva um programa que verifique se o preço de quatro produtos — Arroz, Feijão, Carne e Macarrão — é superior à média nacional dos preços desses produtos. As médias nacionais são as seguintes:\n",
        "\n",
        "* Arroz: R$ 9,00\n",
        "\n",
        "* Feijão: R$ 12,00\n",
        "\n",
        "* Carne: R$ 30,00 por KG\n",
        "\n",
        "* Macarrão: R$ 5,00\n",
        "\n",
        "O algoritmo deve comparar o valor de cada produto com a média e informar se ele está acima ou abaixo da média nacional."
      ],
      "metadata": {
        "id": "GGx2FlnUOh8y"
      }
    },
    {
      "cell_type": "code",
      "source": [
        "arroz = int(input(\"Coloque o valor do arroz: \"))\n",
        "feijao = int(input(\"Coloque o valor do feijao: \"))\n",
        "carne = int(input(\"Coloque o valor do carne: \"))\n",
        "macarrao = int(input(\"Coloque o valor do macarrao: \"))\n",
        "\n",
        "arroz_media = 9\n",
        "feijao_media = 12\n",
        "carne_media  = 30\n",
        "macarrao_media  = 5\n",
        "\n",
        "if arroz > arroz_media:\n",
        "  print(\"Valor na media!\")\n",
        "else:\n",
        "  print(\"Valor acima da media!\")\n",
        "\n",
        "if feijao > feijao_media:\n",
        "  print(\"Valor na media!\")\n",
        "else:\n",
        "  print(\"Valor acima da media!\")\n",
        "\n",
        "if carne > carne_media:\n",
        "  print(\"Valor na media!\")\n",
        "else:\n",
        "  print(\"Valor acima da media!\")\n",
        "\n",
        "if macarrao > macarrao_media:\n",
        "  print(\"Valor na media!\")\n",
        "else:\n",
        "  print(\"Valor acima da media!\")"
      ],
      "metadata": {
        "id": "KmbchnXAVYcF"
      },
      "execution_count": null,
      "outputs": []
    },
    {
      "cell_type": "markdown",
      "source": [
        "2. Determinação de número par/ímpar e positivo/negativo\n",
        "\n",
        "Crie um programa que determine se um número informado é par ou ímpar, e se é positivo, negativo ou zero. O programa deve receber um número inteiro do usuário e imprimir essas informações de forma clara.\n"
      ],
      "metadata": {
        "id": "Vii0_8DkVckG"
      }
    },
    {
      "cell_type": "code",
      "source": [
        "valor = int(input(\"Adicione um numero: \"))\n",
        "if valor % 2 == 0:\n",
        "  print(valor, \"é um número par!\")\n",
        "else:\n",
        "  print(valor, \"não é um número impar!\")\n",
        "\n",
        "if valor > 0:\n",
        "  print(valor, \"é um número positivo.\")\n",
        "elif valor < 0:\n",
        "  print(valor, \"é um número negativo.\")\n",
        "else:\n",
        "  print(valor, \"é zero.\")"
      ],
      "metadata": {
        "id": "9_ytBk3MVfOl"
      },
      "execution_count": null,
      "outputs": []
    },
    {
      "cell_type": "markdown",
      "source": [
        "3. Média das notas e situação do aluno\n",
        "\n",
        "Faça um algoritmo que leia três notas de um aluno, calcule a média dessas notas e informe a situação do aluno:\n",
        "\n",
        "* Se a média for 10, o aluno foi aprovado com louvor.\n",
        "* Se a média for maior ou igual a 7, o aluno foi aprovado.\n",
        "* Se a média for menor que 7, o aluno foi reprovado."
      ],
      "metadata": {
        "id": "DxomVkE0WyIE"
      }
    },
    {
      "cell_type": "code",
      "source": [
        "nota1 = int(input(\"Adicione a primeira nota: \"))\n",
        "nota2 = int(input(\"Adicione a segunda nota: \"))\n",
        "nota3 = int(input(\"Adicione a terceira nota: \"))\n",
        "\n",
        "total = (nota1 + nota2 + nota3)/3\n",
        "\n",
        "if total >= 10\n",
        " print(\"Aprovado com Louvor!\")\n",
        "else:\n",
        "  print(\"Reprovado!\")\n",
        "\n",
        "if total > 7\n",
        " print(\"Aprovado!\")\n",
        "else:\n",
        "  print(\"Reprovado!\")"
      ],
      "metadata": {
        "id": "Z8HAkaZjW0LN"
      },
      "execution_count": null,
      "outputs": []
    },
    {
      "cell_type": "markdown",
      "source": [
        "4. Conversão de Fahrenheit para Celsius\n",
        "\n",
        "Crie um programa que leia uma temperatura em Fahrenheit e converta para Celsius. O programa deve exibir tanto a temperatura original (em Fahrenheit) quanto a temperatura convertida (em Celsius). Utilize a fórmula de conversão:\n",
        "[ C = \\frac{5 \\times (F - 32)}{9} ]"
      ],
      "metadata": {
        "id": "nyro1zTSZAh1"
      }
    },
    {
      "cell_type": "code",
      "source": [
        "fahrenheit = float(input(\"Digite a temperatura em Fahrenheit: \"))\n",
        "\n",
        "celsius = (5 * (fahrenheit - 32)) / 9\n",
        "\n",
        "print(\"Temperatura em Fahrenheit: \", fahrenheit)\n",
        "print(\"Temperatura convertida em Celsius :\", celsius)"
      ],
      "metadata": {
        "id": "kUPqmLJ9ZGPs"
      },
      "execution_count": null,
      "outputs": []
    },
    {
      "cell_type": "markdown",
      "source": [
        "5. Cálculo de votos em uma eleição\n",
        "\n",
        "Desenvolva um programa que simule o cálculo dos votos em uma eleição com três candidatos. O programa deve:\n",
        "\n",
        "1. Perguntar o número total de votantes.\n",
        "2. Receber os votos dos eleitores, onde cada voto é o número de um candidato (1, 2 ou 3).\n",
        "3. Ao final, mostrar a quantidade de votos para cada candidato."
      ],
      "metadata": {
        "id": "VeaS8sgFZjIM"
      }
    },
    {
      "cell_type": "code",
      "source": [
        "num_votantes = int(input(\"Digite o número total de votantes: \"))\n",
        "\n",
        "votos_candidato1 = 0\n",
        "votos_candidato2 = 0\n",
        "votos_candidato3 = 0\n",
        "\n",
        "for i in range(num_votantes):\n",
        "  voto = int(input(f\"Voto do eleitor {i+1} (1, 2 ou 3): \"))\n",
        "  if voto == 1:\n",
        "    votos_candidato1 += 1\n",
        "  elif voto == 2:\n",
        "    votos_candidato2 += 1\n",
        "  elif voto == 3:\n",
        "    votos_candidato3 += 1\n",
        "  else:\n",
        "    print(\"Voto inválido. Por favor, vote 1, 2 ou 3.\")\n",
        "    # Optionally, you could ask the voter to vote again or skip this vote.\n",
        "    # For simplicity, we'll just acknowledge the invalid vote and continue.\n",
        "\n",
        "print(\"Resultado da eleição:\")\n",
        "print(\"Candidato 1: \", votos_candidato1, \"votos\")\n",
        "print(\"Candidato 1: \", votos_candidato2, \"votos\")\n",
        "print(\"Candidato 1: \", votos_candidato3, \"votos\")"
      ],
      "metadata": {
        "id": "plqEc8DnZlOk"
      },
      "execution_count": null,
      "outputs": []
    },
    {
      "cell_type": "markdown",
      "source": [
        "6. Análise de altura e sexo\n",
        "\n",
        "Escreva um programa que leia os dados de altura e sexo de 50 pessoas e, a partir disso, calcule e mostre:\n",
        "\n",
        "* A maior e a menor altura do grupo.\n",
        "* A média de altura das mulheres.\n",
        "* O número total de homens.\n",
        "* A porcentagem de homens e mulheres no grupo."
      ],
      "metadata": {
        "id": "OJrwC3sCZmsz"
      }
    },
    {
      "cell_type": "code",
      "source": [
        "zsfasfaepessoas = int(input(\"quantas pessoas deseja ver: \"))\n",
        "maior = 0\n",
        "menor = 100\n",
        "soma_mulheres = 0\n",
        "cont_mulheres = 0\n",
        "cont_homens = 0\n",
        "\n",
        "for i in range(pessoas):\n",
        "    print(f\"Pessoa {i+1}:\")\n",
        "    altura = float(input(\"Digite a altura: \"))\n",
        "    sexo = input(\"Digite o sexo: \")\n",
        "\n",
        "    if altura > maior:\n",
        "        maior = altura\n",
        "    if altura < menor:\n",
        "        menor = altura\n",
        "\n",
        "    if sexo:\n",
        "        soma_mulheres += altura\n",
        "        cont_mulheres += 1\n",
        "    elif sexo:\n",
        "        cont_homens += 1\n",
        "    else:\n",
        "        print(\"Sexo inválido. Contando como outro.\")\n",
        "\n",
        "\n",
        "if cont_mulheres > 0:\n",
        "  media_mulheres = soma_mulheres / cont_mulheres\n",
        "else:\n",
        "  media_mulheres = 0\n",
        "\n",
        "\n",
        "total_pessoas= cont_mulheres + cont_homens\n",
        "if total_pessoas > 0:\n",
        "  porc_homens = (cont_homens / total_pessoas) * 100\n",
        "  porc_mulheres = (cont_mulheres / total_pessoas) * 100\n",
        "else:\n",
        "  porc_homens = 0\n",
        "  porc_mulheres = 0\n",
        "\n",
        "\n",
        "print(\"Maior altura:\", maior)\n",
        "print(\"Menor altura:\", menor)\n",
        "print(\"Média de altura das mulheres:\", media_mulheres)\n",
        "print(\"Número total de homens:\", cont_homens)\n",
        "print(\"Porcentagem de homens:\", porc_homens, \"%\")\n",
        "print(\"Porcentagem de mulheres:\", porc_mulheres, \"%\")"
      ],
      "metadata": {
        "id": "L3s4uYsWZo2k"
      },
      "execution_count": null,
      "outputs": []
    },
    {
      "cell_type": "markdown",
      "source": [],
      "metadata": {
        "id": "-nxXPRdZetHf"
      }
    },
    {
      "cell_type": "markdown",
      "source": [
        "7. Cálculo do lucro de uma empresa\n",
        "\n",
        "Faça um algoritmo que receba o valor projetado de vendas de uma empresa e calcule o lucro anual. O lucro é 23% do valor total das vendas. O programa deve calcular e exibir o lucro da empresa com base na projeção de vendas informada pelo usuário."
      ],
      "metadata": {
        "id": "E5b_-ykpZpd7"
      }
    },
    {
      "cell_type": "code",
      "source": [
        "valorpvendas = float(input(\"Insira o valor projetado de vendas \"))\n",
        "lucroanual = valorpvendas*0.23\n",
        "print(\"O lucro anual é: \",lucroanual)"
      ],
      "metadata": {
        "id": "83G1YRpBZwMT"
      },
      "execution_count": null,
      "outputs": []
    },
    {
      "cell_type": "markdown",
      "source": [
        "8. Verificação de números primos\n",
        "\n",
        "Crie um programa que leia um número inteiro e determine se ele é um número primo. Um número primo é aquele que só pode ser dividido por 1 e por ele mesmo. O programa deve informar se o número é primo ou não."
      ],
      "metadata": {
        "id": "qTg_zQWIZx_r"
      }
    },
    {
      "cell_type": "code",
      "source": [
        "num = int(input(\"Digite um número inteiro: \"))\n",
        "\n",
        "if num <= 1:\n",
        "    print(num,\"não é primo.\")\n",
        "else:\n",
        "    primo = True\n",
        "    for i in range(2, int(num**0.5) + 1):\n",
        "        if num % i == 0:\n",
        "            primo = False\n",
        "            break\n",
        "\n",
        "    if primo:\n",
        "        print(num,\"é primo!\")\n",
        "    else:\n",
        "        print(num,\"não é primo.\")"
      ],
      "metadata": {
        "id": "0-9fNxUMZ0Aj"
      },
      "execution_count": null,
      "outputs": []
    },
    {
      "cell_type": "markdown",
      "source": [
        "9. Cálculo do fatorial de um número\n",
        "\n",
        "Desenvolva um programa que leia um número inteiro e calcule o fatorial desse número. O fatorial de um número ( n ) é o produto de todos os inteiros de 1 até ( n ). O programa deve exibir o valor do fatorial."
      ],
      "metadata": {
        "id": "BMy2k2AOZ0gr"
      }
    },
    {
      "cell_type": "code",
      "source": [
        "import math\n",
        "\n",
        "numero = int(input(\"Insira um valor inteiro: \"))\n",
        "fatorial = math.factorial(numero)\n",
        "print(\"O fatorial desse número é:\", fatorial)"
      ],
      "metadata": {
        "id": "CSUajrBwZ458"
      },
      "execution_count": null,
      "outputs": []
    },
    {
      "cell_type": "markdown",
      "source": [
        "10. Calculadora de desconto\n",
        "\n",
        "Crie um programa que leia o valor original de um produto e a porcentagem de desconto a ser aplicada. O programa deve calcular e exibir o preço final do produto, considerando o desconto informado."
      ],
      "metadata": {
        "id": "a2AB2HAmZ5eS"
      }
    },
    {
      "cell_type": "code",
      "source": [
        "valor_original = int(input(\"Digite o valor original do produto: \"))\n",
        "desconto = int(input(\"Digite a porcentagem de desconto: \"))\n",
        "\n",
        "valor_desconto = (valor_original * desconto) / 100\n",
        "\n",
        "preco_final = valor_original - valor_desconto\n",
        "\n",
        "print(\"Valor original: R$\",valor_original)\n",
        "print(\"Desconto aplicado:\",desconto)\n",
        "print(\"Valor do desconto: R$\",valor_desconto)\n",
        "print(\"Preço final do produto: R$\",preco_final)"
      ],
      "metadata": {
        "id": "0yLqBH8oZ7Ra"
      },
      "execution_count": null,
      "outputs": []
    },
    {
      "cell_type": "markdown",
      "source": [
        "11. Conversão de horas para minutos e segundos\n",
        "\n",
        "Escreva um programa que leia um valor de tempo em horas e converta esse valor para minutos e segundos. O programa deve exibir o tempo convertido de maneira clara."
      ],
      "metadata": {
        "id": "MSQ0_OONezHI"
      }
    },
    {
      "cell_type": "code",
      "source": [
        "horas = float(input(\"Digite o tempo em horas: \"))\n",
        "\n",
        "minutos = horas * 60\n",
        "segundos = horas * 3600\n",
        "\n",
        "print(\"Tempo informado:\",horas,\"horas\")\n",
        "print(\"Equivalente em minutos:\", minutos,\"minutos\")\n",
        "print(\"Equivalente em segundos:\", segundos,\"segundos\")"
      ],
      "metadata": {
        "id": "X3lbLuOhez2f"
      },
      "execution_count": null,
      "outputs": []
    },
    {
      "cell_type": "markdown",
      "source": [
        "12. Cálculo da média ponderada\n",
        "\n",
        "Faça um algoritmo que leia três notas de um aluno e seus respectivos pesos. O programa deve calcular a média ponderada dessas notas e informar o resultado. A fórmula da média ponderada é:\n",
        "[ \\text{Média ponderada} = \\frac{(nota_1 \\times peso_1) + (nota_2 \\times peso_2) + (nota_3 \\times peso_3)}{peso_1 + peso_2 + peso_3} ]"
      ],
      "metadata": {
        "id": "VIXtjAJke0Xp"
      }
    },
    {
      "cell_type": "code",
      "source": [
        "n1 = int(input(\"Adicione o valor da primeira nota \"))\n",
        "p1 = int(input(\"Adicione o peso da primeira nota \"))\n",
        "n2 = int(input(\"Adicione o valor da segunda nota \"))\n",
        "p2 = int(input(\"Adicione o peso da segunda nota \"))\n",
        "n3 = int(input(\"Adicione o valor da terceira nota \"))\n",
        "p3 = int(input(\"Adicione o peso da terceira nota \"))\n",
        "\n",
        "media = (n1*p1+n2*p2+n3*p3)/(p1+p2+p3)\n",
        "print(\"A média ponderada deu: \", media)"
      ],
      "metadata": {
        "id": "ptF3vtOEe37g"
      },
      "execution_count": null,
      "outputs": []
    },
    {
      "cell_type": "markdown",
      "source": [
        "13. Organização de números em ordem crescente\n",
        "\n",
        "Desenvolva um programa que leia três números inteiros e os organize em ordem crescente. O programa deve exibir os números em ordem crescente, independentemente da ordem em que forem inseridos pelo usuário."
      ],
      "metadata": {
        "id": "8ywMcbjTe4bh"
      }
    },
    {
      "cell_type": "code",
      "source": [
        "n1 = int(input(\"Digite o primeiro número: \"))\n",
        "n2 = int(input(\"Digite o segundo número: \"))\n",
        "n3 = int(input(\"Digite o terceiro número: \"))\n",
        "\n",
        "numeros = [n1, n2, n3]\n",
        "\n",
        "print(\"Números em ordem crescente:\")\n",
        "for num in numeros:\n",
        "    print(num)"
      ],
      "metadata": {
        "id": "Y25qQJAwe8dA"
      },
      "execution_count": null,
      "outputs": []
    },
    {
      "cell_type": "markdown",
      "source": [
        "14. Cálculo da área de uma figura geométrica\n",
        "\n",
        "Crie um programa que calcule a área de uma figura geométrica, dependendo da escolha do usuário. O programa deve oferecer as opções de calcular a área de um quadrado, retângulo, círculo ou triângulo, e exibir o resultado conforme a escolha.\n",
        "\n",
        "* Área do quadrado: ( A = \\text{lado}^2 )\n",
        "* Área do retângulo: ( A = \\text{base} \\times \\text{altura} )\n",
        "* Área do círculo: ( A = \\pi \\times \\text{raio}^2 )\n",
        "* Área do triângulo: ( A = \\frac{\\text{base} \\times \\text{altura}}{2} )"
      ],
      "metadata": {
        "id": "o3i5rfHbe83o"
      }
    },
    {
      "cell_type": "code",
      "source": [
        "forma = input(\"Insira qual forma você quer calcular a área: (quadrado, retangulo, circulo, triangulo)\").lower()\n",
        "if forma == \"quadrado\":\n",
        "  lado = int(input(\"Insira o valor de um dos lados do quadrado: \"))\n",
        "  area = lado * lado\n",
        "  print(\"A área do quadrado é: \", area)\n",
        "elif forma == \"retangulo\":\n",
        "  base = int(input(\"Insira o valor da base: \"))\n",
        "  altura = int(input(\"Insira o valor da altura: \"))\n",
        "  area = base * altura\n",
        "  print(\"A área do retangulo é: \", area)\n",
        "elif forma == \"circulo\":\n",
        "  raio = int(input(\"Insira o valor do raio: \"))\n",
        "  area = 3.14 * (raio ** 2)\n",
        "  print(\"A área do circulo é: \", area)\n",
        "elif forma == \"triangulo\":\n",
        "  base = int(input(\"Insira o valor da base: \"))\n",
        "  altura = int(input(\"Insira o valor da altura: \"))\n",
        "  area = (base * altura) / 2\n",
        "  print(\"A área do triangulo é: \", area)"
      ],
      "metadata": {
        "id": "czJn4oqbpJdR"
      },
      "execution_count": null,
      "outputs": []
    }
  ]
}